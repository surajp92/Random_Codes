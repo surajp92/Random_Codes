{
  "nbformat": 4,
  "nbformat_minor": 0,
  "metadata": {
    "colab": {
      "name": "Untitled1.ipynb",
      "provenance": []
    },
    "kernelspec": {
      "name": "python3",
      "display_name": "Python 3"
    }
  },
  "cells": [
    {
      "cell_type": "code",
      "metadata": {
        "id": "tii-gzt4TZEj"
      },
      "source": [
        "import numpy as np\n",
        "n=1005\n",
        "#A = np.ones(n, dtype=np.float64).reshape(n, 1)\n",
        "H = np.ones(n , dtype=np.float64).reshape(n, 1)\n",
        "L=np.zeros(n*n, dtype=np.float64).reshape(n, n)\n",
        "LT=np.zeros(n*n, dtype=np.float64).reshape(n, n)\n",
        "file1 = open('/content/drive/My Drive/Fall 2020/Bigdata/email-Eu-core.txt', 'r') \n",
        "Lines = file1.readlines()\n",
        "for line in Lines:\n",
        "  val=line.split(\" \")\n",
        "  L[int(val[0])][int(val[1])]=1\n",
        "  LT[int(val[1])][int(val[0])]=1"
      ],
      "execution_count": 8,
      "outputs": []
    },
    {
      "cell_type": "code",
      "metadata": {
        "id": "U8m1h-FSVyC0"
      },
      "source": [
        "for i in range(40):\n",
        "  A=L.T.dot(H)\n",
        "  H=L.dot(A)"
      ],
      "execution_count": 9,
      "outputs": []
    },
    {
      "cell_type": "code",
      "metadata": {
        "id": "1YiUM5TqWd0k"
      },
      "source": [
        "t = []\n",
        "\n",
        "for i in range(0,len(H)):\n",
        "  temp = (i, H[i])\n",
        "  t.append(temp)\n",
        "\n",
        "from operator import itemgetter\n",
        "sorte_tuple_list_asc = sorted(t,key=itemgetter(1), reverse=True)\n",
        "\n"
      ],
      "execution_count": 23,
      "outputs": []
    },
    {
      "cell_type": "code",
      "metadata": {
        "id": "7PzGsedagkDI",
        "outputId": "cc342521-d14f-448d-89b1-a6994253d5bd",
        "colab": {
          "base_uri": "https://localhost:8080/"
        }
      },
      "source": [
        "for i in range(0, 5):\n",
        "  print(sorte_tuple_list_asc[i])"
      ],
      "execution_count": 25,
      "outputs": [
        {
          "output_type": "stream",
          "text": [
            "(160, array([3.29844956e+145]))\n",
            "(82, array([2.98435191e+145]))\n",
            "(121, array([2.9575651e+145]))\n",
            "(107, array([2.72721182e+145]))\n",
            "(62, array([2.55483231e+145]))\n"
          ],
          "name": "stdout"
        }
      ]
    },
    {
      "cell_type": "code",
      "metadata": {
        "id": "JoCu4TtQfTll",
        "outputId": "044eaef1-83c5-48e4-dd40-3e2a27788a95",
        "colab": {
          "base_uri": "https://localhost:8080/"
        }
      },
      "source": [
        "k[1004]"
      ],
      "execution_count": 21,
      "outputs": [
        {
          "output_type": "execute_result",
          "data": {
            "text/plain": [
              "3.29844956435311e+145"
            ]
          },
          "metadata": {
            "tags": []
          },
          "execution_count": 21
        }
      ]
    },
    {
      "cell_type": "code",
      "metadata": {
        "id": "cSnB0sBngG-q"
      },
      "source": [
        ""
      ],
      "execution_count": null,
      "outputs": []
    },
    {
      "cell_type": "code",
      "metadata": {
        "id": "CdhjtKGwWRJ0",
        "outputId": "4b6089b7-0908-4d73-9201-f81db684a025",
        "colab": {
          "base_uri": "https://localhost:8080/"
        }
      },
      "source": [
        "np.argmax(A)"
      ],
      "execution_count": 10,
      "outputs": [
        {
          "output_type": "execute_result",
          "data": {
            "text/plain": [
              "160"
            ]
          },
          "metadata": {
            "tags": []
          },
          "execution_count": 10
        }
      ]
    },
    {
      "cell_type": "code",
      "metadata": {
        "id": "xN7fepsuWahc",
        "outputId": "601d7f1b-1ecd-455d-9320-298c1d3354db",
        "colab": {
          "base_uri": "https://localhost:8080/"
        }
      },
      "source": [
        "np.argmin(A)"
      ],
      "execution_count": 11,
      "outputs": [
        {
          "output_type": "execute_result",
          "data": {
            "text/plain": [
              "524"
            ]
          },
          "metadata": {
            "tags": []
          },
          "execution_count": 11
        }
      ]
    },
    {
      "cell_type": "code",
      "metadata": {
        "id": "cxCHaVrQW5uj",
        "outputId": "594d2be8-fc7d-40f0-f974-75fd4dddab3e",
        "colab": {
          "base_uri": "https://localhost:8080/"
        }
      },
      "source": [
        "np.argmax(H)"
      ],
      "execution_count": 12,
      "outputs": [
        {
          "output_type": "execute_result",
          "data": {
            "text/plain": [
              "160"
            ]
          },
          "metadata": {
            "tags": []
          },
          "execution_count": 12
        }
      ]
    },
    {
      "cell_type": "code",
      "metadata": {
        "id": "6kAQ826gXHWY",
        "outputId": "230fff25-484b-4e8f-dbf1-525cc90952f2",
        "colab": {
          "base_uri": "https://localhost:8080/"
        }
      },
      "source": [
        "np.argmin(H)"
      ],
      "execution_count": 13,
      "outputs": [
        {
          "output_type": "execute_result",
          "data": {
            "text/plain": [
              "78"
            ]
          },
          "metadata": {
            "tags": []
          },
          "execution_count": 13
        }
      ]
    },
    {
      "cell_type": "code",
      "metadata": {
        "id": "wHHM13OMQwFa"
      },
      "source": [
        ""
      ],
      "execution_count": null,
      "outputs": []
    }
  ]
}