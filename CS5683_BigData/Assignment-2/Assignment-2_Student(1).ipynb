{
 "cells": [
  {
   "cell_type": "markdown",
   "metadata": {},
   "source": [
    "# CS 5683: Big Data Analytics\n",
    "## Assignment - 2: Frequent Itemset Mining"
   ]
  },
  {
   "cell_type": "markdown",
   "metadata": {},
   "source": [
    "#### Complete TASK-1, TASK-2, and TASK-3 given below\n",
    "#### This assignment extract only frequent itemsets with simple Python programming"
   ]
  },
  {
   "cell_type": "markdown",
   "metadata": {},
   "source": [
    "### Assignment Total: 10 points (2% of Final)"
   ]
  },
  {
   "cell_type": "code",
   "execution_count": 1,
   "metadata": {},
   "outputs": [],
   "source": [
    "import itertools"
   ]
  },
  {
   "cell_type": "code",
   "execution_count": 2,
   "metadata": {},
   "outputs": [],
   "source": [
    "# ****************************** DO NOT EDIT THIS CELL ************************************\n",
    "\n",
    "\n",
    "# Example baskets - each basket has their own list of items\n",
    "# for simplicity items are converted to integers\n",
    "# we store the list of items as frozenset - hashable when enumerating\n",
    "\n",
    "# For simplicity all data will reside in memory - instead of storing them in a file\n",
    "# Actual data will be in a file. To filter itemsets we need to read data from the file\n",
    "\n",
    "baskets = []\n",
    "baskets.append(frozenset({1,2,5}))\n",
    "baskets.append(frozenset({2,4}))\n",
    "baskets.append(frozenset({2,3}))\n",
    "baskets.append(frozenset({1,2,4}))\n",
    "baskets.append(frozenset({1,3}))\n",
    "baskets.append(frozenset({2,3}))\n",
    "baskets.append(frozenset({1,3}))\n",
    "baskets.append(frozenset({1,2,3,5}))\n",
    "baskets.append(frozenset({1,2,3}))\n",
    "\n",
    "# User input - support threshold\n",
    "s = 2"
   ]
  },
  {
   "cell_type": "code",
   "execution_count": 3,
   "metadata": {},
   "outputs": [],
   "source": [
    "# ****************************** DO NOT EDIT THIS CELL ************************************\n",
    "\n",
    "# Given k-itemset count dictionary and user's support threshold,\n",
    "    # filter_itemsets remove all k-itemsets whose count < s\n",
    "    # returns the remaining k-itemsets and their corresponding count\n",
    "def filter_itemsets(itemset_dict,s):\n",
    "    # Filter frequent items\n",
    "    for k in list(itemset_dict.keys()):\n",
    "        # Remove non-frequent items\n",
    "        if itemset_dict[k] < s:\n",
    "            del itemset_dict[k]\n",
    "            \n",
    "    return itemset_dict"
   ]
  },
  {
   "cell_type": "code",
   "execution_count": 4,
   "metadata": {},
   "outputs": [],
   "source": [
    "# Recursive function to compute all k-frequent itemsets\n",
    "# Function Input:\n",
    "    # prev: data structure of itemset from previous iteration \n",
    "            # a dictionary with itemset and their corresponding count\n",
    "    # frequent_items: a list of frequent items\n",
    "    # s: user's support threshold\n",
    "    # k: k-th iteration. \n",
    "                # k=2 means function generate frequent pairs, \n",
    "                # k=3 means function generate frequent triples, ...\n",
    "            \n",
    "def freq_itemsets(prev, frequent_items, s, k):    \n",
    "    # *************************** TASK-1 ******************************** (4 points)\n",
    "    # **************** Generate Candidate Itemsets **********************\n",
    "    # *******************************************************************\n",
    "    # 1. Generate candidate itemsets - itemsets that are potentially frequent\n",
    "    # 2. Use a nested loop with 'prev' and 'frequent_items'to generate candidate itemsets\n",
    "    # 3. Candidate itemsets store k-itemset as a key and '0' as value initially\n",
    "    \n",
    "    # Dictionary to store k-itemset and their corresponding support\n",
    "    # This dictionary will be of same type as 'prev'\n",
    "    candidate_itemsets = dict() \n",
    "    \n",
    "    \n",
    "    \n",
    "    \n",
    "    # *************************** TASK-2 ******************************** (3 points)\n",
    "    # ************** Update Candidate Itemsets Count ********************\n",
    "    # *******************************************************************\n",
    "    # 1. Using data in 'baskets', update the count of all candidate_itemsets\n",
    "    # NOTE: Your code should not add any new entry to candidate_itemsets\n",
    "            # This will overwhelm the main-memory for big data\n",
    "    \n",
    "    \n",
    "            \n",
    "        \n",
    "        \n",
    "    \n",
    "    # Filter frequent itemsets\n",
    "    candidate_itemsets = filter_itemsets(candidate_itemsets,s)\n",
    "    \n",
    "    \n",
    "    # *************************** TASK-3 ******************************** (3 points)\n",
    "    # ******** Recursion Logic AND Print Frequent k-Itemsets **************\n",
    "    # *******************************************************************\n",
    "    # 1. Write a recursion logic to compute k+1- frequent itemsets and so on\n",
    "    # 2. Print 'candidate_itemsets' dictionary within the recursion logic - \n",
    "        # This step should be ideally replaced with file write of candidate itemsets\n",
    "     \n",
    "\n",
    "    "
   ]
  },
  {
   "cell_type": "code",
   "execution_count": null,
   "metadata": {},
   "outputs": [],
   "source": []
  },
  {
   "cell_type": "code",
   "execution_count": 5,
   "metadata": {},
   "outputs": [],
   "source": [
    "# ****************************** DO NOT EDIT THIS CELL ************************************\n",
    "\n",
    "# Compute frequent items\n",
    "singletons = dict() # Dictionary to store the count of all frequent items\n",
    "\n",
    "# Get the count of every item in the data\n",
    "for b in baskets:\n",
    "    for item in b:\n",
    "        try:\n",
    "            # items are stored in frozenset to make future computations easier\n",
    "            singletons[frozenset({item})] += 1\n",
    "        except KeyError as e:\n",
    "            singletons[frozenset({item})] = 1\n",
    "\n",
    "# Filter frequent items\n",
    "singletons = filter_itemsets(singletons,s)"
   ]
  },
  {
   "cell_type": "code",
   "execution_count": 6,
   "metadata": {},
   "outputs": [
    {
     "name": "stdout",
     "output_type": "stream",
     "text": [
      "{frozenset({1, 2}): 4, frozenset({1, 5}): 2, frozenset({1, 3}): 4, frozenset({2, 5}): 2, frozenset({2, 4}): 2, frozenset({2, 3}): 4}\n",
      "{frozenset({1, 2, 5}): 2, frozenset({1, 2, 3}): 2}\n"
     ]
    }
   ],
   "source": [
    "# ****************************** DO NOT EDIT THIS CELL ************************************\n",
    "\n",
    "k = 2\n",
    "freq_itemsets(singletons,list(singletons.keys()),s, k)"
   ]
  },
  {
   "cell_type": "raw",
   "metadata": {},
   "source": [
    "If programmed correctly, the above function call will print the following:\n",
    "{frozenset({1, 2}): 4, frozenset({1, 5}): 2, frozenset({1, 3}): 4, frozenset({2, 5}): 2, frozenset({2, 4}): 2, frozenset({2, 3}): 4}\n",
    "{frozenset({1, 2, 5}): 2, frozenset({1, 2, 3}): 2}"
   ]
  },
  {
   "cell_type": "markdown",
   "metadata": {},
   "source": [
    "### What to turn-in in Canvas?\n",
    "#### Complete all tasks given above, download this notebook as .ipynb file, and upload it in Canvas"
   ]
  },
  {
   "cell_type": "code",
   "execution_count": null,
   "metadata": {},
   "outputs": [],
   "source": []
  }
 ],
 "metadata": {
  "kernelspec": {
   "display_name": "Python 3",
   "language": "python",
   "name": "python3"
  },
  "language_info": {
   "codemirror_mode": {
    "name": "ipython",
    "version": 3
   },
   "file_extension": ".py",
   "mimetype": "text/x-python",
   "name": "python",
   "nbconvert_exporter": "python",
   "pygments_lexer": "ipython3",
   "version": "3.7.4"
  }
 },
 "nbformat": 4,
 "nbformat_minor": 2
}
